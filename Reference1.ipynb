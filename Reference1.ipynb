{
 "cells": [
  {
   "cell_type": "code",
   "execution_count": null,
   "id": "9eebc3b5-8a79-4157-828c-d56ddf252266",
   "metadata": {},
   "outputs": [],
   "source": [
    "import pandas as pd\n",
    "import numpy as np\n",
    "from sklearn.model_selection import train_test_split\n",
    "from sklearn.linear_model import LogisticRegression\n",
    "from sklearn.ensemble import RandomForestClassifier\n",
    "from sklearn.preprocessing import LabelEncoder"
   ]
  },
  {
   "cell_type": "code",
   "execution_count": null,
   "id": "b1cf21e7-92b4-415d-b34e-d8422ff2b3bd",
   "metadata": {},
   "outputs": [],
   "source": [
    "df = pd.read_csv('Doctor_Asiful_Sk.csv')"
   ]
  },
  {
   "cell_type": "code",
   "execution_count": null,
   "id": "d4e65687-e96c-4099-a59f-9bfb033fbca4",
   "metadata": {},
   "outputs": [],
   "source": [
    "df.head()"
   ]
  },
  {
   "cell_type": "code",
   "execution_count": null,
   "id": "100be3ce-2b8e-4d5c-957b-d939b68fc381",
   "metadata": {},
   "outputs": [],
   "source": [
    "# Encoding categorical variables\n",
    "le_symptom = LabelEncoder()\n",
    "df['Symptom_encoded'] = le_symptom.fit_transform(df['Symptom'])\n",
    "\n",
    "le_medicine = LabelEncoder()#Encon\n",
    "df['Medicine_encoded'] = le_medicine.fit_transform(df['Prescriptions'])\n",
    "\n",
    "le_notes = LabelEncoder()\n",
    "df['Notes_encoded'] = le_notes.fit_transform(df['Notes'])\n",
    "\n",
    "le_dignosis = LabelEncoder()\n",
    "df['Dignosis_encoded'] = le_dignosis.fit_transform(df['Dignosis'])"
   ]
  },
  {
   "cell_type": "code",
   "execution_count": null,
   "id": "c1a214be-9842-4798-8171-e840f55cb107",
   "metadata": {},
   "outputs": [],
   "source": [
    "def data_split(data, ratio):\n",
    "    np.random.seed(42)\n",
    "    shuffled = np.random.permutation(len(data))\n",
    "    test_set_size = int(len(data) * ratio)\n",
    "    test_indices = shuffled[:test_set_size]\n",
    "    train_indices = shuffled[test_set_size:]\n",
    "    return data.iloc[train_indices], data.iloc[test_indices]"
   ]
  },
  {
   "cell_type": "code",
   "execution_count": null,
   "id": "0f52fe14-4478-4ac6-8f85-bc3465a0928c",
   "metadata": {},
   "outputs": [],
   "source": [
    "train, test = data_split(df, 0.2)"
   ]
  },
  {
   "cell_type": "code",
   "execution_count": null,
   "id": "26b8f020-318b-45bc-a175-527008a8f758",
   "metadata": {},
   "outputs": [],
   "source": [
    "train.head()"
   ]
  },
  {
   "cell_type": "code",
   "execution_count": null,
   "id": "8db98944-67b5-4a51-ab4d-7beacba3480a",
   "metadata": {},
   "outputs": [],
   "source": [
    "test.head()"
   ]
  },
  {
   "cell_type": "code",
   "execution_count": null,
   "id": "4db9b19c-8659-4918-a44c-ec7ebc4538c5",
   "metadata": {},
   "outputs": [],
   "source": [
    "X_train = train[['Symptom_encoded']].to_numpy()\n",
    "X_test = test[['Symptom_encoded']].to_numpy()\n",
    "\n",
    "Y_train = train[['Medicine_encoded']].to_numpy()\n",
    "Y_test = test[['Medicine_encoded']].to_numpy()\n",
    "\n",
    "y_train = train[['Notes_encoded']].to_numpy()\n",
    "y_test = test[['Notes_encoded']].to_numpy()\n",
    "\n",
    "z_train = train[['Dignosis_encoded']].to_numpy()\n",
    "z_test = test[['Dignosis_encoded']].to_numpy()\n"
   ]
  },
  {
   "cell_type": "code",
   "execution_count": null,
   "id": "d5e7ed92-48f4-44b8-8624-4aef8da0e8da",
   "metadata": {},
   "outputs": [],
   "source": [
    "model1 = RandomForestClassifier(n_estimators=100, random_state=42)\n",
    "model1.fit(X_train, y_train)"
   ]
  },
  {
   "cell_type": "code",
   "execution_count": null,
   "id": "b59caee3-0dd4-4cc6-82ac-4deabb132198",
   "metadata": {},
   "outputs": [],
   "source": [
    "model2 = RandomForestClassifier(n_estimators=100, random_state=42)\n",
    "model2.fit(X_train, Y_train)"
   ]
  },
  {
   "cell_type": "code",
   "execution_count": null,
   "id": "4e4f9a7d-0f80-476b-afae-5dacdfb14300",
   "metadata": {},
   "outputs": [],
   "source": [
    "\n",
    "model3 = RandomForestClassifier(n_estimators=100, random_state=42)\n",
    "model3.fit(X_train, z_train)"
   ]
  },
  {
   "cell_type": "code",
   "execution_count": null,
   "id": "41d8bde3-344e-459f-a6e7-ac30fcf91fa9",
   "metadata": {},
   "outputs": [],
   "source": [
    "# Assume symptoms_list is a list of symptoms\n",
    "symptoms_list = ['Bleeding piles','Vomiting']\n",
    "\n",
    "# Initialize lists to store predictions for each symptom\n",
    "predicted_notes_encoded_list = []\n",
    "predicted_medicine_encoded_list = []\n",
    "predicted_diagnosis_encoded_list = []\n",
    "\n",
    "# Loop through each symptom\n",
    "for symptom in symptoms_list:\n",
    "    # Encode the symptom\n",
    "    new_symptom_encoded = le_symptom.transform([symptom])\n",
    "    \n",
    "    # Predict notes, medicine, and diagnosis for the symptom\n",
    "    predicted_notes_encoded = model1.predict([new_symptom_encoded])\n",
    "    predicted_medicine_encoded = model2.predict([new_symptom_encoded])\n",
    "    predicted_diagnosis_encoded = model3.predict([new_symptom_encoded])\n",
    "    \n",
    "    # Append predictions to lists\n",
    "    predicted_notes_encoded_list.append(predicted_notes_encoded)\n",
    "    predicted_medicine_encoded_list.append(predicted_medicine_encoded)\n",
    "    predicted_diagnosis_encoded_list.append(predicted_diagnosis_encoded)\n",
    "\n",
    "# Decode the predictions\n",
    "predicted_notes = le_notes.inverse_transform(predicted_notes_encoded_list)\n",
    "predicted_medicine = le_medicine.inverse_transform(predicted_medicine_encoded_list)\n",
    "predicted_diagnosis = le_dignosis.inverse_transform(predicted_diagnosis_encoded_list)\n",
    "\n",
    "# Now you have lists of predicted notes, medicine, and diagnosis for each symptom in symptoms_list\n"
   ]
  },
  {
   "cell_type": "code",
   "execution_count": null,
   "id": "add96de8-843f-44ff-b9ea-9c7e342a0bdc",
   "metadata": {},
   "outputs": [],
   "source": [
    "print(f\"Predicted Medicine: {predicted_medicine[0]}\")\n",
    "print(f\"predicted_notes: {predicted_notes}\")\n",
    "print(f\"predicted_dignosis: {predicted_diagnosis}\")"
   ]
  },
  {
   "cell_type": "code",
   "execution_count": null,
   "id": "f465db80-b86a-4329-8408-4f133d0ac409",
   "metadata": {},
   "outputs": [],
   "source": [
    "notes = []\n",
    "medicine = []\n",
    "diagnosis = []\n",
    "\n",
    "for i in range(len(predicted_medicine)):\n",
    "    if 'nan' in predicted_medicine[i]:\n",
    "        notes.append(predicted_notes[i])\n",
    "        medicine.append(predicted_medicine[i])\n",
    "        diagnosis.append(predicted_diagnosis[i])\n",
    "    else:\n",
    "        notes.append(predicted_notes[i])\n",
    "        # Check if predicted_medicine[i] is a string before splitting\n",
    "        if isinstance(predicted_medicine[i], str):\n",
    "            medicine.extend(predicted_medicine[i].split(';'))\n",
    "        else:\n",
    "            medicine.append(predicted_medicine[i])\n",
    "        diagnosis.append(predicted_diagnosis[i])\n",
    "\n",
    "# Ensure all arrays have the same length\n",
    "max_length = max(len(notes), len(medicine), len(diagnosis))\n",
    "notes += [''] * (max_length - len(notes))\n",
    "medicine += [''] * (max_length - len(medicine))\n",
    "diagnosis += [''] * (max_length - len(diagnosis))\n",
    "\n",
    "# Create DataFrame with all values\n",
    "dataframe2 = pd.DataFrame({\n",
    "    'Medicine': medicine,\n",
    "    'Notes': notes,\n",
    "    'Diagnosis': diagnosis\n",
    "})"
   ]
  },
  {
   "cell_type": "code",
   "execution_count": null,
   "id": "68e00ed4-d2e5-4601-9b89-c9a38e1d1b4b",
   "metadata": {},
   "outputs": [],
   "source": [
    "dataframe2"
   ]
  },
  {
   "cell_type": "code",
   "execution_count": null,
   "id": "384194b2-abc5-4f7d-90f0-8c74269d47dc",
   "metadata": {},
   "outputs": [],
   "source": []
  }
 ],
 "metadata": {
  "kernelspec": {
   "display_name": "Python 3 (ipykernel)",
   "language": "python",
   "name": "python3"
  },
  "language_info": {
   "codemirror_mode": {
    "name": "ipython",
    "version": 3
   },
   "file_extension": ".py",
   "mimetype": "text/x-python",
   "name": "python",
   "nbconvert_exporter": "python",
   "pygments_lexer": "ipython3",
   "version": "3.11.7"
  }
 },
 "nbformat": 4,
 "nbformat_minor": 5
}

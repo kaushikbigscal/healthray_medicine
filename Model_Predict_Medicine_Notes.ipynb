{
 "cells": [
  {
   "cell_type": "code",
   "execution_count": 1,
   "id": "b321c8aa-f17e-4230-b730-e5d146c4d3d5",
   "metadata": {},
   "outputs": [],
   "source": [
    "import pandas as pd\n",
    "import numpy as np\n",
    "from sklearn.model_selection import train_test_split\n",
    "from sklearn.linear_model import LogisticRegression\n",
    "from sklearn.svm import SVC\n",
    "from sklearn.ensemble import RandomForestClassifier\n",
    "from sklearn.preprocessing import LabelEncoder"
   ]
  },
  {
   "cell_type": "code",
   "execution_count": 2,
   "id": "e8531530-81d6-4c59-af94-fea957416dc9",
   "metadata": {},
   "outputs": [],
   "source": [
    "df = pd.read_csv('Doctor_Pradip_Dalwadi.csv')"
   ]
  },
  {
   "cell_type": "code",
   "execution_count": 3,
   "id": "1d546873-b751-4228-ad0e-f4b5305f8ab6",
   "metadata": {},
   "outputs": [
    {
     "data": {
      "text/html": [
       "<div>\n",
       "<style scoped>\n",
       "    .dataframe tbody tr th:only-of-type {\n",
       "        vertical-align: middle;\n",
       "    }\n",
       "\n",
       "    .dataframe tbody tr th {\n",
       "        vertical-align: top;\n",
       "    }\n",
       "\n",
       "    .dataframe thead th {\n",
       "        text-align: right;\n",
       "    }\n",
       "</style>\n",
       "<table border=\"1\" class=\"dataframe\">\n",
       "  <thead>\n",
       "    <tr style=\"text-align: right;\">\n",
       "      <th></th>\n",
       "      <th>Doctor ID</th>\n",
       "      <th>Symptom</th>\n",
       "      <th>Prescriptions</th>\n",
       "      <th>Dignosis</th>\n",
       "      <th>Notes</th>\n",
       "    </tr>\n",
       "  </thead>\n",
       "  <tbody>\n",
       "    <tr>\n",
       "      <th>0</th>\n",
       "      <td>292860</td>\n",
       "      <td>FOLLOW UP WITH REPORTS</td>\n",
       "      <td>NaN</td>\n",
       "      <td>('SMALL SIZE OF PENIS UNDER EVALUATION',)</td>\n",
       "      <td>NaN</td>\n",
       "    </tr>\n",
       "    <tr>\n",
       "      <th>1</th>\n",
       "      <td>292860</td>\n",
       "      <td>P..N..B..</td>\n",
       "      <td>NaN</td>\n",
       "      <td>('SMALL SIZE OF PENIS UNDER EVALUATION',)</td>\n",
       "      <td>NaN</td>\n",
       "    </tr>\n",
       "    <tr>\n",
       "      <th>2</th>\n",
       "      <td>292860</td>\n",
       "      <td>BODYACHE</td>\n",
       "      <td>NaN</td>\n",
       "      <td>('HYPERCALCEMIA UNDER EVALUATION',)</td>\n",
       "      <td>NaN</td>\n",
       "    </tr>\n",
       "    <tr>\n",
       "      <th>3</th>\n",
       "      <td>292860</td>\n",
       "      <td>HEADACHE</td>\n",
       "      <td>NaN</td>\n",
       "      <td>('? RCC ? CYSTIC PITUITARY ADENOMA', 'YOUNG ON...</td>\n",
       "      <td>NaN</td>\n",
       "    </tr>\n",
       "    <tr>\n",
       "      <th>4</th>\n",
       "      <td>292860</td>\n",
       "      <td>FOLLOW UP WITH REPORTS</td>\n",
       "      <td>NaN</td>\n",
       "      <td>('PTH INDEPENDENT HYPERCALCEMIA',)</td>\n",
       "      <td>NaN</td>\n",
       "    </tr>\n",
       "    <tr>\n",
       "      <th>...</th>\n",
       "      <td>...</td>\n",
       "      <td>...</td>\n",
       "      <td>...</td>\n",
       "      <td>...</td>\n",
       "      <td>...</td>\n",
       "    </tr>\n",
       "    <tr>\n",
       "      <th>2628</th>\n",
       "      <td>292860</td>\n",
       "      <td>CONSTIPATION</td>\n",
       "      <td>AMARYL 1 MG (195634); AMARYL M 2MG (239540); C...</td>\n",
       "      <td>('DYSLIPIDEMIA', 'IHD POST PTCA', 'MICROALBUMI...</td>\n",
       "      <td>CHANGE INSULIN SITE REGULARLY, DIABETES DIET /...</td>\n",
       "    </tr>\n",
       "    <tr>\n",
       "      <th>2629</th>\n",
       "      <td>292860</td>\n",
       "      <td>COMPLIANCE ISSUE WITH EXERCISE</td>\n",
       "      <td>AMARYL 1 MG (195634); AMARYL M 2MG (239540); C...</td>\n",
       "      <td>('DYSLIPIDEMIA', 'IHD POST PTCA', 'MICROALBUMI...</td>\n",
       "      <td>CHANGE INSULIN SITE REGULARLY, DIABETES DIET /...</td>\n",
       "    </tr>\n",
       "    <tr>\n",
       "      <th>2630</th>\n",
       "      <td>292860</td>\n",
       "      <td>PARASTHESIA ++ IN FEET</td>\n",
       "      <td>AMARYL 1 MG (195634); AMARYL M 2MG (239540); C...</td>\n",
       "      <td>('DYSLIPIDEMIA', 'IHD POST PTCA', 'MICROALBUMI...</td>\n",
       "      <td>CHANGE INSULIN SITE REGULARLY, DIABETES DIET /...</td>\n",
       "    </tr>\n",
       "    <tr>\n",
       "      <th>2631</th>\n",
       "      <td>292860</td>\n",
       "      <td>BURNING MICTURITION</td>\n",
       "      <td>AMARYL 1 MG (195634); AMARYL M 2MG (239540); C...</td>\n",
       "      <td>('DYSLIPIDEMIA', 'IHD POST PTCA', 'MICROALBUMI...</td>\n",
       "      <td>CHANGE INSULIN SITE REGULARLY, DIABETES DIET /...</td>\n",
       "    </tr>\n",
       "    <tr>\n",
       "      <th>2632</th>\n",
       "      <td>292860</td>\n",
       "      <td>SMBG = ACCEPTABLE EXCEPT FBS</td>\n",
       "      <td>BASAGLAR 100IU 3ML CARRIDGE (195552); DO NOT P...</td>\n",
       "      <td>('H/O- GDM', 'MICROALBUMINURIA', 'MTP DONE DUE...</td>\n",
       "      <td>NaN</td>\n",
       "    </tr>\n",
       "  </tbody>\n",
       "</table>\n",
       "<p>2633 rows × 5 columns</p>\n",
       "</div>"
      ],
      "text/plain": [
       "      Doctor ID                         Symptom  \\\n",
       "0        292860          FOLLOW UP WITH REPORTS   \n",
       "1        292860                       P..N..B..   \n",
       "2        292860                        BODYACHE   \n",
       "3        292860                        HEADACHE   \n",
       "4        292860          FOLLOW UP WITH REPORTS   \n",
       "...         ...                             ...   \n",
       "2628     292860                    CONSTIPATION   \n",
       "2629     292860  COMPLIANCE ISSUE WITH EXERCISE   \n",
       "2630     292860          PARASTHESIA ++ IN FEET   \n",
       "2631     292860             BURNING MICTURITION   \n",
       "2632     292860    SMBG = ACCEPTABLE EXCEPT FBS   \n",
       "\n",
       "                                          Prescriptions  \\\n",
       "0                                                   NaN   \n",
       "1                                                   NaN   \n",
       "2                                                   NaN   \n",
       "3                                                   NaN   \n",
       "4                                                   NaN   \n",
       "...                                                 ...   \n",
       "2628  AMARYL 1 MG (195634); AMARYL M 2MG (239540); C...   \n",
       "2629  AMARYL 1 MG (195634); AMARYL M 2MG (239540); C...   \n",
       "2630  AMARYL 1 MG (195634); AMARYL M 2MG (239540); C...   \n",
       "2631  AMARYL 1 MG (195634); AMARYL M 2MG (239540); C...   \n",
       "2632  BASAGLAR 100IU 3ML CARRIDGE (195552); DO NOT P...   \n",
       "\n",
       "                                               Dignosis  \\\n",
       "0             ('SMALL SIZE OF PENIS UNDER EVALUATION',)   \n",
       "1             ('SMALL SIZE OF PENIS UNDER EVALUATION',)   \n",
       "2                   ('HYPERCALCEMIA UNDER EVALUATION',)   \n",
       "3     ('? RCC ? CYSTIC PITUITARY ADENOMA', 'YOUNG ON...   \n",
       "4                    ('PTH INDEPENDENT HYPERCALCEMIA',)   \n",
       "...                                                 ...   \n",
       "2628  ('DYSLIPIDEMIA', 'IHD POST PTCA', 'MICROALBUMI...   \n",
       "2629  ('DYSLIPIDEMIA', 'IHD POST PTCA', 'MICROALBUMI...   \n",
       "2630  ('DYSLIPIDEMIA', 'IHD POST PTCA', 'MICROALBUMI...   \n",
       "2631  ('DYSLIPIDEMIA', 'IHD POST PTCA', 'MICROALBUMI...   \n",
       "2632  ('H/O- GDM', 'MICROALBUMINURIA', 'MTP DONE DUE...   \n",
       "\n",
       "                                                  Notes  \n",
       "0                                                   NaN  \n",
       "1                                                   NaN  \n",
       "2                                                   NaN  \n",
       "3                                                   NaN  \n",
       "4                                                   NaN  \n",
       "...                                                 ...  \n",
       "2628  CHANGE INSULIN SITE REGULARLY, DIABETES DIET /...  \n",
       "2629  CHANGE INSULIN SITE REGULARLY, DIABETES DIET /...  \n",
       "2630  CHANGE INSULIN SITE REGULARLY, DIABETES DIET /...  \n",
       "2631  CHANGE INSULIN SITE REGULARLY, DIABETES DIET /...  \n",
       "2632                                                NaN  \n",
       "\n",
       "[2633 rows x 5 columns]"
      ]
     },
     "execution_count": 3,
     "metadata": {},
     "output_type": "execute_result"
    }
   ],
   "source": [
    "df"
   ]
  },
  {
   "cell_type": "code",
   "execution_count": 4,
   "id": "224f46db-7cc1-44a6-9939-ff5b8b4aec12",
   "metadata": {},
   "outputs": [],
   "source": [
    "# Encoding categorical variables\n",
    "le_symptom = LabelEncoder()\n",
    "df['Symptom_encoded'] = le_symptom.fit_transform(df['Symptom'])\n",
    "\n",
    "le_medicine = LabelEncoder()#Encon\n",
    "df['Medicine_encoded'] = le_medicine.fit_transform(df['Prescriptions'])\n",
    "\n",
    "le_notes = LabelEncoder()\n",
    "df['Notes_encoded'] = le_notes.fit_transform(df['Notes'])\n",
    "\n",
    "le_dignosis = LabelEncoder()\n",
    "df['Dignosis_encoded'] = le_dignosis.fit_transform(df['Dignosis'])"
   ]
  },
  {
   "cell_type": "code",
   "execution_count": 5,
   "id": "92a249a3-15fd-46d3-abb6-8e2478997263",
   "metadata": {},
   "outputs": [],
   "source": [
    "def data_split(data, ratio):\n",
    "    np.random.seed(42)\n",
    "    shuffled = np.random.permutation(len(data))\n",
    "    test_set_size = int(len(data) * ratio)\n",
    "    test_indices = shuffled[:test_set_size]\n",
    "    train_indices = shuffled[test_set_size:]\n",
    "    return data.iloc[train_indices], data.iloc[test_indices]"
   ]
  },
  {
   "cell_type": "code",
   "execution_count": 6,
   "id": "5290d3ad-0557-4c82-8d56-95a824e0197a",
   "metadata": {},
   "outputs": [],
   "source": [
    "train, test = data_split(df, 0.3)"
   ]
  },
  {
   "cell_type": "code",
   "execution_count": 7,
   "id": "7d952487-a150-4084-bfe2-03e5a6bd6097",
   "metadata": {},
   "outputs": [],
   "source": [
    "X_train = train[['Symptom_encoded']].to_numpy()\n",
    "X_test = test[['Symptom_encoded']].to_numpy()"
   ]
  },
  {
   "cell_type": "code",
   "execution_count": 8,
   "id": "8f009640-2472-40c8-a3c0-46518050cfc2",
   "metadata": {},
   "outputs": [],
   "source": [
    "Y_train = train[['Medicine_encoded']].to_numpy()\n",
    "Y_test = test[['Medicine_encoded']].to_numpy()"
   ]
  },
  {
   "cell_type": "code",
   "execution_count": 9,
   "id": "82530ab2-02cb-4e1d-a9c1-35cdb5d87de8",
   "metadata": {},
   "outputs": [
    {
     "data": {
      "text/plain": [
       "array([[ 717],\n",
       "       [1103],\n",
       "       [ 926],\n",
       "       ...,\n",
       "       [ 370],\n",
       "       [ 994],\n",
       "       [1140]])"
      ]
     },
     "execution_count": 9,
     "metadata": {},
     "output_type": "execute_result"
    }
   ],
   "source": [
    "Y_train"
   ]
  },
  {
   "cell_type": "code",
   "execution_count": null,
   "id": "658a1527-477c-4a24-87e8-5fc09b62d9ee",
   "metadata": {},
   "outputs": [],
   "source": [
    "y_train = train[['Notes_encoded']].to_numpy()\n",
    "y_test = test[['Notes_encoded']].to_numpy()"
   ]
  },
  {
   "cell_type": "code",
   "execution_count": null,
   "id": "a979aa4c-09a3-4d9c-bf1e-0e3eb250e78a",
   "metadata": {},
   "outputs": [],
   "source": [
    "z_train = train[['Dignosis_encoded']].to_numpy()\n",
    "z_test = test[['Dignosis_encoded']].to_numpy()"
   ]
  },
  {
   "cell_type": "code",
   "execution_count": null,
   "id": "9b47b232-e98b-47b3-b116-947bf2a38d73",
   "metadata": {},
   "outputs": [],
   "source": [
    "med_model = SVC(kernel='linear', random_state=42)\n",
    "med_model.fit(X_train, Y_train)"
   ]
  },
  {
   "cell_type": "code",
   "execution_count": null,
   "id": "98709817-12c2-4f67-9813-cddcea965494",
   "metadata": {},
   "outputs": [],
   "source": [
    "note_model = SVC(kernel='linear', random_state=42)\n",
    "note_model.fit(X_train, y_train)"
   ]
  },
  {
   "cell_type": "code",
   "execution_count": null,
   "id": "347d486f-73c8-46a8-869c-827e6ace8f1f",
   "metadata": {},
   "outputs": [],
   "source": [
    "dig_model = SVC(kernel='linear', random_state=42)\n",
    "dig_model.fit(X_train, z_train)"
   ]
  },
  {
   "cell_type": "code",
   "execution_count": null,
   "id": "0ad8648f-afef-4676-a767-9d601387cac3",
   "metadata": {},
   "outputs": [],
   "source": [
    "# Assume symptoms_list is a list of symptoms\n",
    "symptoms_list = ['BODYACHE']\n",
    "\n",
    "# Initialize lists to store predictions for each symptom\n",
    "predicted_notes_encoded_list = []\n",
    "predicted_medicine_encoded_list = []\n",
    "predicted_diagnosis_encoded_list = []\n",
    "\n",
    "# Loop through each symptom\n",
    "for symptom in symptoms_list:\n",
    "    # Encode the symptom\n",
    "    new_symptom_encoded = le_symptom.transform([symptom])\n",
    "    \n",
    "    # Predict notes, medicine, and diagnosis for the symptom\n",
    "    predicted_notes_encoded = note_model.predict([new_symptom_encoded])\n",
    "    predicted_medicine_encoded = med_model.predict([new_symptom_encoded])\n",
    "    predicted_diagnosis_encoded = dig_model.predict([new_symptom_encoded])\n",
    "    \n",
    "    # Append predictions to lists\n",
    "    predicted_notes_encoded_list.append(predicted_notes_encoded)\n",
    "    predicted_medicine_encoded_list.append(predicted_medicine_encoded)\n",
    "    predicted_diagnosis_encoded_list.append(predicted_diagnosis_encoded)\n",
    "\n",
    "# Decode the predictions\n",
    "predicted_notes = le_notes.inverse_transform(predicted_notes_encoded_list)\n",
    "predicted_medicine = le_medicine.inverse_transform(predicted_medicine_encoded_list)\n",
    "predicted_diagnosis = le_dignosis.inverse_transform(predicted_diagnosis_encoded_list)"
   ]
  },
  {
   "cell_type": "code",
   "execution_count": null,
   "id": "2bb8ff47-52b3-40c4-9694-925d45be176b",
   "metadata": {},
   "outputs": [],
   "source": [
    "print(f\"Predicted Medicine: {predicted_medicine}\")\n",
    "print(f\"predicted_notes: {predicted_notes}\")\n",
    "print(f\"predicted_dignosis: {predicted_diagnosis}\")"
   ]
  },
  {
   "cell_type": "code",
   "execution_count": null,
   "id": "8aeba729-9312-4589-b513-83585cb0b9ae",
   "metadata": {},
   "outputs": [],
   "source": []
  },
  {
   "cell_type": "code",
   "execution_count": null,
   "id": "7a9ee56a-24e2-4974-8a44-5b78370e3d96",
   "metadata": {},
   "outputs": [],
   "source": []
  },
  {
   "cell_type": "code",
   "execution_count": null,
   "id": "dda91ddb-f6fd-4874-9880-78181c73ced4",
   "metadata": {},
   "outputs": [],
   "source": []
  },
  {
   "cell_type": "code",
   "execution_count": null,
   "id": "61a6e02b-ade6-45bf-9435-e12bf0d14998",
   "metadata": {},
   "outputs": [],
   "source": []
  },
  {
   "cell_type": "code",
   "execution_count": null,
   "id": "9261f032-ee87-492c-a8c4-7f429b04707a",
   "metadata": {},
   "outputs": [],
   "source": []
  },
  {
   "cell_type": "code",
   "execution_count": null,
   "id": "b665f00d-6891-42eb-8048-4f7eb77eac4f",
   "metadata": {},
   "outputs": [],
   "source": []
  },
  {
   "cell_type": "code",
   "execution_count": null,
   "id": "6563d241-bb7d-4802-984c-453003f88ea8",
   "metadata": {},
   "outputs": [],
   "source": [
    "model1 = RandomForestClassifier(n_estimators=100, random_state=42)\n",
    "model1.fit(X_train, y_train)"
   ]
  },
  {
   "cell_type": "code",
   "execution_count": null,
   "id": "9e24af26-28df-48d0-b9bc-37d96c495cb0",
   "metadata": {},
   "outputs": [],
   "source": [
    "model2 = RandomForestClassifier(n_estimators=100, random_state=42)\n",
    "model2.fit(X_train, Y_train)"
   ]
  },
  {
   "cell_type": "code",
   "execution_count": null,
   "id": "976623b7-1dc4-4dc1-a619-6230a4b27b5c",
   "metadata": {},
   "outputs": [],
   "source": [
    "model3 = RandomForestClassifier(n_estimators=100, random_state=42)\n",
    "model3.fit(X_train, z_train)"
   ]
  },
  {
   "cell_type": "code",
   "execution_count": null,
   "id": "66fddc1f-5ab9-4af5-8e11-ac573b70f23d",
   "metadata": {},
   "outputs": [],
   "source": [
    "df"
   ]
  },
  {
   "cell_type": "code",
   "execution_count": null,
   "id": "b9d414e0-68d5-4c2c-9f86-c6f851428682",
   "metadata": {},
   "outputs": [],
   "source": [
    "# Assume symptoms_list is a list of symptoms\n",
    "symptoms_list = ['Abdominal pain']\n",
    "\n",
    "# Initialize lists to store predictions for each symptom\n",
    "predicted_notes_encoded_list = []\n",
    "predicted_medicine_encoded_list = []\n",
    "predicted_diagnosis_encoded_list = []\n",
    "\n",
    "# Loop through each symptom\n",
    "for symptom in symptoms_list:\n",
    "    # Encode the symptom\n",
    "    new_symptom_encoded = le_symptom.transform([symptom])\n",
    "    \n",
    "    # Predict notes, medicine, and diagnosis for the symptom\n",
    "    predicted_notes_encoded = model1.predict([new_symptom_encoded])\n",
    "    predicted_medicine_encoded = model2.predict([new_symptom_encoded])\n",
    "    predicted_diagnosis_encoded = model3.predict([new_symptom_encoded])\n",
    "    \n",
    "    # Append predictions to lists\n",
    "    predicted_notes_encoded_list.append(predicted_notes_encoded)\n",
    "    predicted_medicine_encoded_list.append(predicted_medicine_encoded)\n",
    "    predicted_diagnosis_encoded_list.append(predicted_diagnosis_encoded)\n",
    "\n",
    "# Decode the predictions\n",
    "predicted_notes = le_notes.inverse_transform(predicted_notes_encoded_list)\n",
    "predicted_medicine = le_medicine.inverse_transform(predicted_medicine_encoded_list)\n",
    "predicted_diagnosis = le_dignosis.inverse_transform(predicted_diagnosis_encoded_list)\n",
    "\n",
    "# Now you have lists of predicted notes, medicine, and diagnosis for each symptom in symptoms_list\n"
   ]
  },
  {
   "cell_type": "code",
   "execution_count": null,
   "id": "f12ef117-78fd-4fc8-ad18-d980385ecfa8",
   "metadata": {},
   "outputs": [],
   "source": [
    "# new_symptom_encoded = le_symptom.transform(['Frequency of stool'])\n",
    "\n",
    "# predicted_medicine_encoded = model2.predict([new_symptom_encoded])\n",
    "# predicted_notes_encoded = model1.predict([new_symptom_encoded])\n",
    "# predicted_dignosis_encoded = model3.predict([new_symptom_encoded])\n",
    "\n",
    "# predicted_notes = le_notes.inverse_transform(predicted_notes_encoded)\n",
    "# predicted_medicine = le_medicine.inverse_transform(predicted_medicine_encoded)\n",
    "# predicted_dignosis = le_dignosis.inverse_transform(predicted_dignosis_encoded)"
   ]
  },
  {
   "cell_type": "code",
   "execution_count": null,
   "id": "66e375e8-3e0b-489d-a1de-4a375fbcf7ae",
   "metadata": {},
   "outputs": [],
   "source": [
    "print(f\"Predicted Medicine: {predicted_medicine[0]}\")\n",
    "print(f\"predicted_notes: {predicted_notes[0]}\")\n",
    "print(f\"predicted_dignosis: {predicted_diagnosis[0]}\")"
   ]
  },
  {
   "cell_type": "code",
   "execution_count": null,
   "id": "762d93f9-304f-4023-997f-280c6329dc12",
   "metadata": {
    "scrolled": true
   },
   "outputs": [],
   "source": [
    "notes = ''\n",
    "medicine = ''\n",
    "diagnosis = ''\n",
    "\n",
    "if 'nan' in predicted_medicine:\n",
    "    notes = predicted_notes[0]\n",
    "    medicine = predicted_medicine[0]\n",
    "    diagnosis = predicted_diagnosis[0]\n",
    "else:\n",
    "    notes = predicted_notes[0]\n",
    "    # Check if predicted_medicine[0] is a string before splitting\n",
    "    if isinstance(predicted_medicine[0], str):\n",
    "        medicine = predicted_medicine[0].split(';')\n",
    "    else:\n",
    "        medicine = predicted_medicine[0]\n",
    "    diagnosis = predicted_diagnosis[0]\n",
    "\n",
    "# Ensure notes, medicine, and diagnosis are always treated as lists\n",
    "notes = [notes] if isinstance(notes, str) else notes\n",
    "medicine = [medicine] if isinstance(medicine, str) else medicine\n",
    "diagnosis = [diagnosis] if isinstance(diagnosis, str) else diagnosis\n",
    "\n",
    "# Check if notes, medicine, and diagnosis are lists, and if so, get the first element as scalar values\n",
    "notes_scalar = notes[0] if isinstance(notes, list) else notes\n",
    "medicine_scalar = medicine[0] if isinstance(medicine, list) else medicine\n",
    "diagnosis_scalar = diagnosis[0] if isinstance(diagnosis, list) else diagnosis\n",
    "\n",
    "# Create DataFrame with scalar values\n",
    "dataframe2 = pd.DataFrame({\n",
    "    'Medicine': [medicine_scalar],\n",
    "    'Notes': [notes_scalar],\n",
    "    'Diagnosis': [diagnosis_scalar]\n",
    "})"
   ]
  },
  {
   "cell_type": "code",
   "execution_count": null,
   "id": "44c04713-0b4b-4d23-93a5-122113e6e47e",
   "metadata": {},
   "outputs": [],
   "source": [
    "dataframe2"
   ]
  },
  {
   "cell_type": "code",
   "execution_count": null,
   "id": "2c02c43c-6ef8-4b5c-8168-b9d93c6a9401",
   "metadata": {},
   "outputs": [],
   "source": []
  }
 ],
 "metadata": {
  "kernelspec": {
   "display_name": "Python 3 (ipykernel)",
   "language": "python",
   "name": "python3"
  },
  "language_info": {
   "codemirror_mode": {
    "name": "ipython",
    "version": 3
   },
   "file_extension": ".py",
   "mimetype": "text/x-python",
   "name": "python",
   "nbconvert_exporter": "python",
   "pygments_lexer": "ipython3",
   "version": "3.11.7"
  }
 },
 "nbformat": 4,
 "nbformat_minor": 5
}
